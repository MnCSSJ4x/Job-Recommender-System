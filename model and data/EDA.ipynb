{
 "cells": [
  {
   "cell_type": "code",
   "execution_count": 1,
   "metadata": {},
   "outputs": [],
   "source": [
    "import pandas as pd \n",
    "import numpy as np "
   ]
  },
  {
   "cell_type": "code",
   "execution_count": 7,
   "metadata": {},
   "outputs": [],
   "source": [
    "df = pd.read_csv('./data/jobs_dataset.csv')"
   ]
  },
  {
   "cell_type": "code",
   "execution_count": 12,
   "metadata": {},
   "outputs": [],
   "source": [
    "description = df['Description'].dropna()"
   ]
  },
  {
   "cell_type": "code",
   "execution_count": 15,
   "metadata": {},
   "outputs": [
    {
     "data": {
      "text/plain": [
       "'Site Name: India - Maharashtra - Worli Mumbai, Bengaluru Luxor North TowerJob Purpose:Manages team and will be responsible for workload assessment and allocation of resource within R&D investigational products for CTA/IND team and also ensure that appropriate content for specific submissions are supported for all R&D projectsEffective line management & mentoring of the assigned resource to ensure that appropriate content is delivered to agreed timeframes and in compliance with GSK process and policy as they apply to the role. Job holder will also be a Subject Matter Expert for specific areas for consultation within the team/ department as well as externally outside the departmentKey Responsibilities:Manage HR aspects for a team of direct reports including recruitment, training and developmentManage and take accountability of workload within assigned team and work with functional lead to address resource challengesProficient knowledge of Clinical Trial Directive, DIA TMF Reference Model and CTA/IND submission requirements for multiple countries/submission typesHave good knowledge in processes, ways of working and current EU/EMAP/US guidelines for CTA/IND, and use this expertise to provide training, consultation and solutions within the team/ department as well as externally outside the departmentManage and accountable for the work of CTA/IND submission coordinatorsAccountable to the development delivery functional lead for overall allocation of work plans, manage GRLs/TGs for overall CTA/IND study service request & allocation for agreed tasks and projects Ensures quality of both own and team submission and compliance with regulatory guidelines and process as they apply to the role. Provides consultation and solutions being a subject matter expert in processes.Lead the creation and implementation of CTA/IND submission coordinator working practices and procedures aimed at simplifying processes and maintaining quality.Managing of development, refinement of the CTA/IND lifecycle strategy, timely content & delivery appropriate to each individual regulatory agency while maintaining compliance with GSK policy and procedures.Works with staff from other functions and should be capable of working to senior levels in development functions in provision of advice, interpretation of relevant guidance’s, researching topics and resolving issues.Required to liaise with LOC and Regulatory Agencies to resolve issues in relation to their accountabilitiesSupport submission team review and approval proceduresMaintain knowledge of relevant Regulatory Authority rules and GSK standards associated with submission formatCheck compliance of others’ work with requirements and standardsGenerate appropriate metrics and key performance indicators for the team, and use metrics to develop and enhance capability within the GRCBasic Qualifications:Bachelor’s degree in biological or healthcare science qualification or experience within Regulatory Affairs in the Drug development environment Preferred Qualifications:Masters degree or higher in biological or healthcare scienceMinimum Level of Job-Related Experience Required:7-9 years of Global-CTA/IND submission experience & Knowledge of regulatory agency guidelinesManaged an operational/production team of more than 5 people that successfully delivered outputs to time and quality over period of 2yearsBroad understanding of the pharmaceutical industry, drug development environment, and R&D processes and objectives.Excellent organisational skills, attention to detail and commitment to deliver high quality output, even under pressures sometimes demanded by regulatory deadlinesDirect or indirect experience of regulatory processes associated with gaining and maintaining product registrations for both Investigational and Licensed ProductsSuccessful and sustained delivery of a significant number of submission packages including a broad range of submission types.Relevant Job skill or Abilities required for the job:Has strong sense of urgency, able to effectively prioritize such that key issues or emerging high priority matters are handled in a timely and effective way.Project management skills, overseeing and prioritizing multiple activities across one or more sites for multiple customersService-oriented , customer focused ability to interact effectively with all levels of personnel in an interdisciplinary and matrix environment.Ability to build effective working relationships and work in a matrix environment effectivelyAbility to think flexibly in order to meet constantly shifting priorities and timelines. Has strong sense of urgency, able to effectively prioritize such that key issues or emerging high priority matters are handled in a timely and effective way.Service-oriented attitude and ability to interact effectively with all levels of personnel in an interdisciplinary and matrix environment.Ability to interpret and advise on guidelines and requirements on a global basis, reflecting recent GSK experienceProject management skills, overseeing and prioritizing multiple activities across one or more sites for multiple customersExcellent written and verbal communication skills and ability to present information in a clear and concise mannerAbility to define and implement new processes and quality initiatives with an awareness of relevant controls and impacts.Highly developed interpersonal, presentation and communication skills with established internal and external networks.Ability to work carefully under time constraints'"
      ]
     },
     "execution_count": 15,
     "metadata": {},
     "output_type": "execute_result"
    }
   ],
   "source": []
  },
  {
   "cell_type": "code",
   "execution_count": null,
   "metadata": {},
   "outputs": [],
   "source": []
  }
 ],
 "metadata": {
  "kernelspec": {
   "display_name": "recsys",
   "language": "python",
   "name": "python3"
  },
  "language_info": {
   "codemirror_mode": {
    "name": "ipython",
    "version": 3
   },
   "file_extension": ".py",
   "mimetype": "text/x-python",
   "name": "python",
   "nbconvert_exporter": "python",
   "pygments_lexer": "ipython3",
   "version": "3.9.16"
  },
  "orig_nbformat": 4
 },
 "nbformat": 4,
 "nbformat_minor": 2
}
